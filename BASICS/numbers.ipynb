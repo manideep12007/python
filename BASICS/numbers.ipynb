{
 "cells": [
  {
   "cell_type": "code",
   "execution_count": null,
   "id": "b962bc6e",
   "metadata": {},
   "outputs": [],
   "source": [
    "# Number data type in python \n",
    "# datatypes: int,float and complex \n",
    "# they are primitive datatypes\n",
    "# int for integer values \n",
    "# float for decimal values \n",
    "# complex for complex values num + numj"
   ]
  },
  {
   "cell_type": "code",
   "execution_count": 1,
   "id": "62415304",
   "metadata": {},
   "outputs": [
    {
     "name": "stdout",
     "output_type": "stream",
     "text": [
      "234 <class 'int'>\n",
      "2.67 <class 'float'>\n",
      "8j <class 'complex'>\n"
     ]
    }
   ],
   "source": [
    "x = 234 # int \n",
    "y = 2.67 # float\n",
    "z = 8j # complex \n",
    "print(x,type(x))\n",
    "print(y,type(y))\n",
    "print(z,type(z))"
   ]
  },
  {
   "cell_type": "code",
   "execution_count": 2,
   "id": "a381b352",
   "metadata": {},
   "outputs": [
    {
     "name": "stdout",
     "output_type": "stream",
     "text": [
      "1.0\n",
      "4\n",
      "(4.5+0j) (1+0j)\n"
     ]
    }
   ],
   "source": [
    "x = 1\n",
    "y = 4.5\n",
    "z = 7j \n",
    "print(float(x)) # int to float \n",
    "print(int(y)) # float to int \n",
    "print(complex(y),complex(x)) # int/float to complex"
   ]
  },
  {
   "cell_type": "code",
   "execution_count": 7,
   "id": "264a72cc",
   "metadata": {},
   "outputs": [
    {
     "name": "stdout",
     "output_type": "stream",
     "text": [
      "0.145644956240784\n",
      "4.854782565561745\n",
      "48\n",
      "45\n"
     ]
    }
   ],
   "source": [
    "# random module \n",
    "import random \n",
    "# used for randomization \n",
    "# to get random float between 0 to 1 \n",
    "print(random.random())\n",
    "# to get random float between any range \n",
    "print(random.uniform(4,5))\n",
    "# to get random integers between any range \n",
    "print(random.randint(45,67))\n",
    "# to pick random number \n",
    "print(random.randrange(40,51))"
   ]
  },
  {
   "cell_type": "code",
   "execution_count": 8,
   "id": "ec54db08",
   "metadata": {},
   "outputs": [
    {
     "name": "stdout",
     "output_type": "stream",
     "text": [
      "2.0\n",
      "32.0\n",
      "4\n",
      "5\n",
      "3.141592653589793\n",
      "2.718281828459045\n"
     ]
    }
   ],
   "source": [
    "# math module which has many ways to help with numbers\n",
    "import math \n",
    "print(math.sqrt(4)) # square root \n",
    "print(math.pow(2,5)) # number to power of n \n",
    "print(math.floor(4.56)) # floor integer \n",
    "print(math.ceil(4.56)) # closet ceil value\n",
    "print(math.pi) # pi constant \n",
    "print(math.e) # e constant "
   ]
  },
  {
   "cell_type": "code",
   "execution_count": 10,
   "id": "a9b86fbc",
   "metadata": {},
   "outputs": [
    {
     "name": "stdout",
     "output_type": "stream",
     "text": [
      "9.9000\n"
     ]
    }
   ],
   "source": [
    "# decimal module \n",
    "# provide precise arithematic to decimals\n",
    "from decimal import getcontext,Decimal\n",
    "getcontext().prec = 5\n",
    "print(Decimal(4.57) + Decimal(5.33))"
   ]
  },
  {
   "cell_type": "code",
   "execution_count": 13,
   "id": "a72a1cbc",
   "metadata": {},
   "outputs": [
    {
     "name": "stdout",
     "output_type": "stream",
     "text": [
      "2 3 5 7 11 13 17 19 \n",
      "This are prime numbers between 1 to 20\n"
     ]
    }
   ],
   "source": [
    "# coding questions \n",
    "# 1. is prime or not \n",
    "def isPrime(n):\n",
    "    if n <= 1 :\n",
    "        return False\n",
    "    if n == 2 or n == 3 :\n",
    "        return True\n",
    "    if n % 2 == 0 or n % 3 == 0:\n",
    "        return False\n",
    "    i = 5 \n",
    "    while i ** 2 < n :\n",
    "        if n % i == 0 or n % (i+1) == 0:\n",
    "            return False\n",
    "        i += 6\n",
    "    return True\n",
    "for i in range(1,21):\n",
    "    print(i,end=\" \") if isPrime(i) else ''\n",
    "else:\n",
    "    print(\"\\nThis are prime numbers between 1 to 20\")"
   ]
  },
  {
   "cell_type": "code",
   "execution_count": 15,
   "id": "d952426a",
   "metadata": {},
   "outputs": [
    {
     "name": "stdout",
     "output_type": "stream",
     "text": [
      "321\n",
      "101\n",
      "542211311\n"
     ]
    }
   ],
   "source": [
    "# reverse of a number \n",
    "def reverse_number(n):\n",
    "    rev = 0 \n",
    "    while n != 0 :\n",
    "        digit = n % 10 \n",
    "        rev = rev * 10 + digit\n",
    "        n //= 10 \n",
    "    return rev \n",
    "print(reverse_number(123))\n",
    "print(reverse_number(101))\n",
    "print(reverse_number(113112245))"
   ]
  },
  {
   "cell_type": "code",
   "execution_count": 16,
   "id": "3c9191ae",
   "metadata": {},
   "outputs": [
    {
     "name": "stdout",
     "output_type": "stream",
     "text": [
      "False\n",
      "True\n",
      "False\n"
     ]
    }
   ],
   "source": [
    "# palindrome: if reverse of number is equal to original number \n",
    "def isPalindrome(n):\n",
    "    temp,rev = n,0\n",
    "    while temp != 0:\n",
    "        digit = temp % 10\n",
    "        rev = rev * 10 + digit\n",
    "        temp //= 10 \n",
    "    return n == rev \n",
    "print(isPalindrome(123))\n",
    "print(isPalindrome(101))\n",
    "print(isPalindrome(113112245))"
   ]
  },
  {
   "cell_type": "code",
   "execution_count": 21,
   "id": "2e1caaf7",
   "metadata": {},
   "outputs": [
    {
     "name": "stdout",
     "output_type": "stream",
     "text": [
      "True\n",
      "False\n",
      "153 370 371 407 "
     ]
    }
   ],
   "source": [
    "# armstrong number \n",
    "# sum of digits power to number of digits is equal to num\n",
    "def isArmstrong(n):\n",
    "    res = count = 0\n",
    "    temp = n \n",
    "    while temp != 0:\n",
    "        count += 1 \n",
    "        temp //= 10 \n",
    "    temp = n \n",
    "    while temp != 0:\n",
    "        digit = temp % 10\n",
    "        res += digit ** count\n",
    "        temp //= 10 \n",
    "    return res == n \n",
    "print(isArmstrong(153))\n",
    "print(isArmstrong(101))\n",
    "for i in range(101,501):\n",
    "    print(i,end=\" \") if isArmstrong(i) else ''"
   ]
  },
  {
   "cell_type": "code",
   "execution_count": 25,
   "id": "35023c6a",
   "metadata": {},
   "outputs": [
    {
     "name": "stdout",
     "output_type": "stream",
     "text": [
      "1101\n",
      "1100\n",
      "True\n"
     ]
    }
   ],
   "source": [
    "# convert number to binary \n",
    "def binary(n):\n",
    "    res = ''\n",
    "    if n == 0:\n",
    "        return '0'\n",
    "    while n != 0:\n",
    "        res = str(n % 2) + res \n",
    "        n //= 2\n",
    "    return res \n",
    "print(binary(13))\n",
    "print(binary(12))\n",
    "print(binary(10) == bin(10)[2:])"
   ]
  },
  {
   "cell_type": "code",
   "execution_count": 29,
   "id": "f1db923b",
   "metadata": {},
   "outputs": [
    {
     "name": "stdout",
     "output_type": "stream",
     "text": [
      "COUNTER: {'0': 2, '1': 1}\n",
      "RESULT: 100\n",
      "list: ['1', '0', '0']\n"
     ]
    }
   ],
   "source": [
    "# counting number of ones and zeros in binary \n",
    "def binary_count(n):\n",
    "    count = {}\n",
    "    lst = []\n",
    "    res = ''\n",
    "    if n == 0:\n",
    "        res = '0'\n",
    "        lst.append('0')\n",
    "    while n != 0:\n",
    "        val = str(n % 2)\n",
    "        lst.insert(0,val)\n",
    "        res = val + res \n",
    "        if val not in count:\n",
    "            count[val] = 1\n",
    "        else:\n",
    "            count[val] += 1\n",
    "        n //= 2\n",
    "    return f'COUNTER: {count}\\nRESULT: {res}\\nlist: {lst}'\n",
    "print(binary_count(4))"
   ]
  },
  {
   "cell_type": "code",
   "execution_count": null,
   "id": "468ec3fe",
   "metadata": {},
   "outputs": [
    {
     "name": "stdout",
     "output_type": "stream",
     "text": [
      "45\n",
      "22\n",
      "12\n",
      "12\n"
     ]
    }
   ],
   "source": [
    "def greatestof_two(a,b):\n",
    "    return a if a > b else b \n",
    "\n",
    "def greatestof_three(a,b,c):\n",
    "    return a if a > b and a > c else b if b > c else c\n",
    "\n",
    "def lowestof_two(a,b):\n",
    "    return a if a < b else b \n",
    "\n",
    "def lowestof_three(a,b,c):\n",
    "    return a if a < b and a < c else b if b < c else c\n",
    "\n",
    "print(greatestof_three(12,45,22))\n",
    "print(greatestof_two(12,22))\n",
    "\n",
    "print(lowestof_three(12,45,22))\n",
    "print(lowestof_two(12,22))"
   ]
  },
  {
   "cell_type": "code",
   "execution_count": 32,
   "id": "eb26514f",
   "metadata": {},
   "outputs": [
    {
     "name": "stdout",
     "output_type": "stream",
     "text": [
      "60\n",
      "3\n"
     ]
    }
   ],
   "source": [
    "# lcm and gcd \n",
    "def gcd(a,b):\n",
    "    while b != 0:\n",
    "        a,b = b,a % b \n",
    "    return a \n",
    "def lcm(a,b):\n",
    "    return abs(a * b) // gcd(a,b)\n",
    "print(lcm(12,15))\n",
    "print(gcd(12,15))"
   ]
  }
 ],
 "metadata": {
  "kernelspec": {
   "display_name": "Python 3",
   "language": "python",
   "name": "python3"
  },
  "language_info": {
   "codemirror_mode": {
    "name": "ipython",
    "version": 3
   },
   "file_extension": ".py",
   "mimetype": "text/x-python",
   "name": "python",
   "nbconvert_exporter": "python",
   "pygments_lexer": "ipython3",
   "version": "3.13.2"
  }
 },
 "nbformat": 4,
 "nbformat_minor": 5
}
