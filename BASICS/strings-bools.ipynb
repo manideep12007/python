{
 "cells": [
  {
   "cell_type": "code",
   "execution_count": null,
   "id": "00a0625d",
   "metadata": {},
   "outputs": [],
   "source": [
    "# python strings \n",
    "# sequence of characters enclosed by quotes \n",
    "# it may be single or double or triple quotes \n",
    "# it is immutable object but can be accessed its subparts\n",
    "# using slicing and various methods which doesn't change\n",
    "# affect the original one it returns a copy of it "
   ]
  },
  {
   "cell_type": "code",
   "execution_count": null,
   "id": "a138c795",
   "metadata": {},
   "outputs": [
    {
     "name": "stdout",
     "output_type": "stream",
     "text": [
      "Hello Python\n",
      "Django\n",
      " \n",
      "Django's pythonic world\n",
      "\n",
      "<class 'str'>\n"
     ]
    }
   ],
   "source": [
    "a = \"Hello Python\"\n",
    "b = 'Django'\n",
    "c = \"\"\" \n",
    "Django's pythonic world\n",
    "\"\"\"\n",
    "print(a)\n",
    "print(b)\n",
    "print(c)\n",
    "print(type(c)) # <class 'str' >"
   ]
  },
  {
   "cell_type": "code",
   "execution_count": 2,
   "id": "b4c51db1",
   "metadata": {},
   "outputs": [
    {
     "name": "stdout",
     "output_type": "stream",
     "text": [
      "H\n",
      "d\n"
     ]
    }
   ],
   "source": [
    "a = \"Hello World\"\n",
    "print(a[0]) # accessing element thorugh index\n",
    "# index starts from 0 from left to right \n",
    "print(a[-1]) # negative index starts from -1 \n",
    "# from last index to starting "
   ]
  },
  {
   "cell_type": "code",
   "execution_count": 3,
   "id": "13fbfd20",
   "metadata": {},
   "outputs": [
    {
     "name": "stdout",
     "output_type": "stream",
     "text": [
      "13\n"
     ]
    }
   ],
   "source": [
    "# string length \n",
    "# we can use common method called len to return length\n",
    "a = \"Hello, World!\"\n",
    "print(len(a))"
   ]
  },
  {
   "cell_type": "code",
   "execution_count": 5,
   "id": "32dec976",
   "metadata": {},
   "outputs": [
    {
     "name": "stdout",
     "output_type": "stream",
     "text": [
      "True\n",
      "False\n"
     ]
    }
   ],
   "source": [
    "# in clause to check whether substring in string or not \n",
    "a = \"pythonic world\"\n",
    "print(\"t\" in a)\n",
    "print('p' not in a)"
   ]
  },
  {
   "cell_type": "code",
   "execution_count": 8,
   "id": "e4402085",
   "metadata": {},
   "outputs": [
    {
     "name": "stdout",
     "output_type": "stream",
     "text": [
      "ytho\n",
      "wor\n",
      "dlrow cinohtyP\n",
      "lro\n"
     ]
    }
   ],
   "source": [
    "# slicing : taking out subpart of the string \n",
    "a = \"Pythonic world\"\n",
    "print(a[1:5]) # 1st to 4th char\n",
    "print(a[-5:-2]) # -5th index to -2nd index\n",
    "print(a[::-1]) # step=-1 reverse\n",
    "print(a[-2:-5:-1])"
   ]
  },
  {
   "cell_type": "code",
   "execution_count": 25,
   "id": "fb6273ae",
   "metadata": {},
   "outputs": [
    {
     "name": "stdout",
     "output_type": "stream",
     "text": [
      "PYTHON IS BEST PROGRAMMING LANGUAGE\n",
      "python is best programming language\n",
      "Python Is Best Programming Language\n",
      "Python is best programming language\n"
     ]
    }
   ],
   "source": [
    "# case modification \n",
    "name = \"Python is best programming language\"\n",
    "print(name.upper()) # all chars to uppercase \n",
    "print(name.lower()) # all chars to lowercase\n",
    "print(name.title()) # every first char of word to upper\n",
    "print(name.capitalize()) # first char as upper only"
   ]
  },
  {
   "cell_type": "code",
   "execution_count": 12,
   "id": "c81a0a52",
   "metadata": {},
   "outputs": [
    {
     "name": "stdout",
     "output_type": "stream",
     "text": [
      "hello\n",
      "hello world\n"
     ]
    }
   ],
   "source": [
    "# to remove whitespaces from left or right \n",
    "print(\"  hello\".strip())\n",
    "print(\"hello world    \".strip())"
   ]
  },
  {
   "cell_type": "code",
   "execution_count": 14,
   "id": "6c6b8974",
   "metadata": {},
   "outputs": [
    {
     "name": "stdout",
     "output_type": "stream",
     "text": [
      "Java supports oops!\n",
      "Python supports oops!\n"
     ]
    }
   ],
   "source": [
    "# to replace char or substring \n",
    "a = \"Java supports oops!\"\n",
    "print(a)\n",
    "b = a.replace('Java','Python')\n",
    "print(b)"
   ]
  },
  {
   "cell_type": "code",
   "execution_count": 19,
   "id": "2f8256b8",
   "metadata": {},
   "outputs": [
    {
     "name": "stdout",
     "output_type": "stream",
     "text": [
      "['VsCode', 'is', 'best', 'tool', 'for', 'developers']\n"
     ]
    }
   ],
   "source": [
    "# splitiing string to list of chars\n",
    "a = 'VsCode is best tool for developers'\n",
    "lst = a.split()\n",
    "print(lst)"
   ]
  },
  {
   "cell_type": "code",
   "execution_count": 21,
   "id": "70cf260e",
   "metadata": {},
   "outputs": [
    {
     "name": "stdout",
     "output_type": "stream",
     "text": [
      "VsCode is best tool for developers\n"
     ]
    }
   ],
   "source": [
    "# join method to add into a string \n",
    "a = 'VsCode is best tool for developers'\n",
    "lst = a.split()\n",
    "res = ' '.join(lst)\n",
    "print(res)"
   ]
  },
  {
   "cell_type": "code",
   "execution_count": 22,
   "id": "9c62cfdf",
   "metadata": {},
   "outputs": [
    {
     "name": "stdout",
     "output_type": "stream",
     "text": [
      "python's best web framework is django\n"
     ]
    }
   ],
   "source": [
    "# string concentation \n",
    "a = 'python'\n",
    "b = 'django'\n",
    "res = a + \"'s best web framework is \" + b\n",
    "print(res)"
   ]
  },
  {
   "cell_type": "code",
   "execution_count": null,
   "id": "1747f9e3",
   "metadata": {},
   "outputs": [
    {
     "name": "stdout",
     "output_type": "stream",
     "text": [
      "python's best web framework is django\n",
      "python's best web framework is django\n"
     ]
    }
   ],
   "source": [
    "# string formating \n",
    "# format method \n",
    "print(\"{}'s best web framework is {}\".format(a,b))\n",
    "# or f-string\n",
    "print(f\"{a}'s best web framework is {b}\")"
   ]
  },
  {
   "cell_type": "code",
   "execution_count": 26,
   "id": "161db7ea",
   "metadata": {},
   "outputs": [
    {
     "name": "stdout",
     "output_type": "stream",
     "text": [
      "False\n",
      "True\n"
     ]
    }
   ],
   "source": [
    "# startswith and endswith \n",
    "print(\"Hello world of python\".startswith('h'))\n",
    "print(\"Hello world of python\".endswith('n'))"
   ]
  },
  {
   "cell_type": "code",
   "execution_count": null,
   "id": "d969efbc",
   "metadata": {},
   "outputs": [
    {
     "name": "stdout",
     "output_type": "stream",
     "text": [
      "True\n",
      "False\n",
      "True\n",
      "False\n",
      "False\n"
     ]
    }
   ],
   "source": [
    "a = '12356'\n",
    "print(a.isalnum()) # alphabets / numbers\n",
    "print(a.isalpha()) # only alphabets\n",
    "print(a.isdigit()) # only digits\n",
    "print(a.islower()) # lower case or not\n",
    "print(a.isupper()) # upper case or not "
   ]
  },
  {
   "cell_type": "code",
   "execution_count": 31,
   "id": "0061999e",
   "metadata": {},
   "outputs": [
    {
     "name": "stdout",
     "output_type": "stream",
     "text": [
      "True\n",
      "False\n"
     ]
    }
   ],
   "source": [
    "# booleans \n",
    "# returns True or False \n",
    "print( 10 > 9) # True \n",
    "print(9 < 5) # False    \n"
   ]
  },
  {
   "cell_type": "code",
   "execution_count": 34,
   "id": "84170b5e",
   "metadata": {},
   "outputs": [
    {
     "name": "stdout",
     "output_type": "stream",
     "text": [
      "False\n",
      "True\n",
      "False\n",
      "True\n",
      "False\n",
      "False\n",
      "False\n",
      "False\n"
     ]
    }
   ],
   "source": [
    "print(bool(\"\")) # false \n",
    "print(bool(\"Hello\")) # true \n",
    "print(bool(0)) # false\n",
    "print(bool(123)) # true\n",
    "print(bool(None)) # false\n",
    "print(bool([])) # false \n",
    "print(bool({})) # false \n",
    "print(bool(())) # false"
   ]
  },
  {
   "cell_type": "code",
   "execution_count": 1,
   "id": "f09577e8",
   "metadata": {},
   "outputs": [
    {
     "name": "stdout",
     "output_type": "stream",
     "text": [
      "dlroW olleH\n",
      "dlroW olleH\n"
     ]
    }
   ],
   "source": [
    "# reverse of string \n",
    "a = 'Hello World'\n",
    "print(a[::-1]) # this is also reverse of string \n",
    "def reverse_string(a):\n",
    "    rev = ''\n",
    "    for char in a:\n",
    "        rev = char + rev\n",
    "    return rev \n",
    "print(reverse_string(a=a))"
   ]
  },
  {
   "cell_type": "code",
   "execution_count": 3,
   "id": "6041dbd5",
   "metadata": {},
   "outputs": [
    {
     "name": "stdout",
     "output_type": "stream",
     "text": [
      "True\n",
      "False\n"
     ]
    }
   ],
   "source": [
    "# palindrome string or not \n",
    "def palindrome_string(string):\n",
    "    rev = ''\n",
    "    for char in string:\n",
    "        rev = char + rev \n",
    "    return rev == string\n",
    "print(palindrome_string('madam'))\n",
    "print(palindrome_string('banana'))"
   ]
  },
  {
   "cell_type": "code",
   "execution_count": 4,
   "id": "f57e05e4",
   "metadata": {},
   "outputs": [
    {
     "name": "stdout",
     "output_type": "stream",
     "text": [
      "{'consonants': 16, 'vowels': 5}\n"
     ]
    }
   ],
   "source": [
    "def vowels_consonants_counter(string):\n",
    "    counter = {}\n",
    "    for char in string.lower():\n",
    "        if char in \"aeiou\":\n",
    "            if \"vowels\" not in counter:\n",
    "                counter[\"vowels\"] = 1\n",
    "            else:\n",
    "                counter[\"vowels\"] += 1\n",
    "        else:\n",
    "            if \"consonants\" not in counter:\n",
    "                counter[\"consonants\"] = 1\n",
    "            else:\n",
    "                counter[\"consonants\"] += 1\n",
    "    return counter\n",
    "string = \"Hello World of python\"\n",
    "print(vowels_consonants_counter(string=string))"
   ]
  },
  {
   "cell_type": "code",
   "execution_count": 7,
   "id": "50e4a1b6",
   "metadata": {},
   "outputs": [
    {
     "name": "stdout",
     "output_type": "stream",
     "text": [
      "True\n"
     ]
    }
   ],
   "source": [
    "def anagrams(s1,s2):\n",
    "    if len(s1) != len(s2):\n",
    "        return False\n",
    "    d1 = d2 = {}\n",
    "    # for char in s1:\n",
    "    #     if char not in d1:\n",
    "    #         d1[char] = 1\n",
    "    #     else:\n",
    "    #         d1[char] += 1\n",
    "    for char in s1:\n",
    "        d1[char] = 1 if char not in d1 else d1[char] + 1\n",
    "    for char in s2:\n",
    "        d2[char] = 1 if char not in d2 else d2[char] + 1\n",
    "    return d1 == d2 \n",
    "print(anagrams(\"silent\",\"listen\"))"
   ]
  },
  {
   "cell_type": "code",
   "execution_count": 11,
   "id": "73fd4022",
   "metadata": {},
   "outputs": [
    {
     "name": "stdout",
     "output_type": "stream",
     "text": [
      "Helo WrdfPythn\n"
     ]
    }
   ],
   "source": [
    "def remove_duplicates(s):\n",
    "    seen = set()\n",
    "    res = ''\n",
    "    for char in s:\n",
    "        if char not in seen:\n",
    "            res += char\n",
    "            seen.add(char)\n",
    "    return res \n",
    "print(remove_duplicates(\"Hello  World of Python\"))"
   ]
  }
 ],
 "metadata": {
  "kernelspec": {
   "display_name": "Python 3",
   "language": "python",
   "name": "python3"
  },
  "language_info": {
   "codemirror_mode": {
    "name": "ipython",
    "version": 3
   },
   "file_extension": ".py",
   "mimetype": "text/x-python",
   "name": "python",
   "nbconvert_exporter": "python",
   "pygments_lexer": "ipython3",
   "version": "3.13.2"
  }
 },
 "nbformat": 4,
 "nbformat_minor": 5
}
