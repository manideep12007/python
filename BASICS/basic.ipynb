{
 "cells": [
  {
   "cell_type": "code",
   "execution_count": null,
   "id": "6f2a39ab",
   "metadata": {},
   "outputs": [],
   "source": [
    "# python was created by Guido Van Rossum\n",
    "# python is high level,open source general purpose programming language. \n",
    "# it supports multiple programming paradigm like functional , procedural , modular and object oriented programming \n",
    "# python supports dynamic typing \n",
    "# python is platform-independent \n",
    "# python knows for readability as it is simple, english- like syntax \n",
    "# python is interpreter language, which means execution is done line by line \n",
    "# after the compiler turns out code to intermediate code called byte code "
   ]
  },
  {
   "cell_type": "code",
   "execution_count": 1,
   "id": "62eb76d2",
   "metadata": {},
   "outputs": [
    {
     "name": "stdout",
     "output_type": "stream",
     "text": [
      "Hello World\n"
     ]
    }
   ],
   "source": [
    "print(\"Hello World\") # simple print statement "
   ]
  },
  {
   "cell_type": "code",
   "execution_count": null,
   "id": "c7fc4ed7",
   "metadata": {},
   "outputs": [],
   "source": [
    "# Indentation \n",
    "# refers to the spaces at the begining of the code \n",
    "# python uses identation to indicate a block of code\n",
    "# program cannot be start with indentation "
   ]
  },
  {
   "cell_type": "code",
   "execution_count": null,
   "id": "765f7be4",
   "metadata": {},
   "outputs": [],
   "source": [
    "# variables \n",
    "# variables are references to store values in memory \n",
    "# in python variable definition cannot start by numbers\n",
    "# it only be either alphabets (C or s) or underscore \n",
    "# python supports alphabets,numbers and underscores\n",
    "# variable naming cannot be same as python keywords \n",
    "# variables are case-senstive a != A "
   ]
  },
  {
   "cell_type": "code",
   "execution_count": null,
   "id": "ff9bc68e",
   "metadata": {},
   "outputs": [
    {
     "name": "stdout",
     "output_type": "stream",
     "text": [
      "\n"
     ]
    }
   ],
   "source": [
    "# comments \n",
    "# this is single line comment \n",
    "\"\"\" \n",
    "This \n",
    "is multiple line \n",
    "comment and \n",
    "mostly used in block of code or \n",
    "class, explaining what it does \n",
    "but they are comments if assigned \n",
    "to variable\n",
    "\"\"\"\n",
    "print()"
   ]
  },
  {
   "cell_type": "code",
   "execution_count": null,
   "id": "e649ff21",
   "metadata": {},
   "outputs": [
    {
     "name": "stdout",
     "output_type": "stream",
     "text": [
      "JohnCena\n",
      "WWE\n",
      "2.345\n",
      "3\n"
     ]
    }
   ],
   "source": [
    "# valid variable names \n",
    "x = 5 \n",
    "x = \"JohnCena\" # dynamic typing \n",
    "_name = \"WWE\"\n",
    "n1 = 2.345\n",
    "n_one = 3\n",
    "print(x)\n",
    "print(_name)\n",
    "print(n1)\n",
    "print(n_one)"
   ]
  },
  {
   "cell_type": "code",
   "execution_count": null,
   "id": "3c6f7939",
   "metadata": {},
   "outputs": [
    {
     "name": "stdout",
     "output_type": "stream",
     "text": [
      "18 <class 'int'>\n",
      "99.99 <class 'float'>\n",
      "Virat Kohli <class 'str'>\n",
      "True <class 'bool'>\n",
      "(2+9j) <class 'complex'>\n"
     ]
    }
   ],
   "source": [
    "# data types in python \n",
    "# primitive data types are int,float,str,bool,complex\n",
    "number = 18\n",
    "floating = 99.99\n",
    "name = \"Virat Kohli\"\n",
    "is_goat = True \n",
    "complex_num = 2 + 9j \n",
    "print(number,type(number))\n",
    "print(floating,type(floating))\n",
    "print(name,type(name))\n",
    "print(is_goat,type(is_goat))\n",
    "print(complex_num,type(complex_num))\n",
    "# type is function to retrieve the data type of variable "
   ]
  },
  {
   "cell_type": "code",
   "execution_count": null,
   "id": "0d6e44a8",
   "metadata": {},
   "outputs": [
    {
     "name": "stdout",
     "output_type": "stream",
     "text": [
      "120 <class 'int'>\n",
      "120.0 <class 'float'>\n",
      "120 <class 'str'>\n",
      "True <class 'bool'>\n",
      "(120+0j) <class 'complex'>\n"
     ]
    }
   ],
   "source": [
    "# type casting \n",
    "# changing from one data type to another data type \n",
    "a = 120\n",
    "print(a,type(a))\n",
    "b = float(a)\n",
    "print(b,type(b))\n",
    "c = str(a) # except '' is false else true \n",
    "print(c,type(c))\n",
    "d = bool(a) # except 0 = false else true \n",
    "print(d,type(d))\n",
    "e = complex(a) # valid only for number type \n",
    "print(e,type(e))"
   ]
  },
  {
   "cell_type": "code",
   "execution_count": null,
   "id": "3ee2fd8b",
   "metadata": {},
   "outputs": [
    {
     "name": "stdout",
     "output_type": "stream",
     "text": [
      "['False', 'None', 'True', 'and', 'as', 'assert', 'async', 'await', 'break', 'class', 'continue', 'def', 'del', 'elif', 'else', 'except', 'finally', 'for', 'from', 'global', 'if', 'import', 'in', 'is', 'lambda', 'nonlocal', 'not', 'or', 'pass', 'raise', 'return', 'try', 'while', 'with', 'yield']\n"
     ]
    }
   ],
   "source": [
    "import keyword\n",
    "keywords = keyword.kwlist\n",
    "print(keywords)\n",
    "# this are keywords which cannot be used in declaring or naming the variable "
   ]
  },
  {
   "cell_type": "code",
   "execution_count": 11,
   "id": "2ec1a8c5",
   "metadata": {},
   "outputs": [
    {
     "name": "stdout",
     "output_type": "stream",
     "text": [
      "300 400 500\n",
      "1000 1000\n"
     ]
    }
   ],
   "source": [
    "# assigning multiple values in single line\n",
    "# pythonic way of assigning values\n",
    "x,y,z = 300,400,500\n",
    "print(x,y,z)\n",
    "# assigning one value to all \n",
    "y = z = 1000 \n",
    "print(y,z)"
   ]
  },
  {
   "cell_type": "code",
   "execution_count": null,
   "id": "f9f4eef1",
   "metadata": {},
   "outputs": [
    {
     "name": "stdout",
     "output_type": "stream",
     "text": [
      "12\n",
      "10\n",
      "15\n",
      "10\n",
      "Not defined\n"
     ]
    }
   ],
   "source": [
    "# variables declared outside the function \n",
    "# in the code anywhere is called global variable \n",
    "# variable which defined in function is called \n",
    "# local variable they cannot used in global scope \n",
    "# but global variable can be used inside local scope\n",
    "global_variable = 12\n",
    "print(global_variable)\n",
    "def function():\n",
    "    global global_variable # it will effect \n",
    "    global_variable = 10\n",
    "    # doesn't effect without global keyword\n",
    "    print(global_variable)\n",
    "    local_variable = 15\n",
    "    print(local_variable)\n",
    "function()\n",
    "print(global_variable)\n",
    "try:\n",
    "    print(local_variable)\n",
    "except:\n",
    "    print(\"Not defined\")"
   ]
  }
 ],
 "metadata": {
  "kernelspec": {
   "display_name": "Python 3",
   "language": "python",
   "name": "python3"
  },
  "language_info": {
   "codemirror_mode": {
    "name": "ipython",
    "version": 3
   },
   "file_extension": ".py",
   "mimetype": "text/x-python",
   "name": "python",
   "nbconvert_exporter": "python",
   "pygments_lexer": "ipython3",
   "version": "3.13.2"
  }
 },
 "nbformat": 4,
 "nbformat_minor": 5
}
